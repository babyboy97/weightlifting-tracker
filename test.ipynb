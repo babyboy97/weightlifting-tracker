{
 "cells": [
  {
   "cell_type": "code",
   "execution_count": 3,
   "metadata": {},
   "outputs": [],
   "source": [
    "from config import aws_endpoint, aws_master_username, aws_master_password, database\n",
    "import mysql.connector\n",
    "from datetime import datetime\n",
    "import pandas as pd\n",
    "from email_validator import validate_email\n"
   ]
  },
  {
   "cell_type": "code",
   "execution_count": 46,
   "metadata": {},
   "outputs": [],
   "source": [
    "class SQL:\n",
    "    def __init__(self, host, user, password, database):\n",
    "        self.host = host\n",
    "        self.user = user\n",
    "        self.password = password\n",
    "        self.database = database\n",
    "        self.my_database = mysql.connector.connect(\n",
    "                            host=self.host,\n",
    "                            user=self.user,\n",
    "                            password=self.password,\n",
    "                            database=self.database\n",
    "                        )\n",
    "        # self.cursor = self.my_database.cursor()\n",
    "\n",
    "    def query_data(self, query:str):\n",
    "        \"\"\"Provides the ability to query data from the database\n",
    "\n",
    "        Args:\n",
    "            query (str): SQL query\n",
    "\n",
    "        Raises:\n",
    "            Exception: Must pass str for query\n",
    "            e: SQL syntax based error\n",
    "\n",
    "        Returns:\n",
    "            df (pd.DataFrame): Dataframe\n",
    "        \"\"\"\n",
    "        cursor = self.my_database.cursor()\n",
    "\n",
    "        if not isinstance(query,str): \n",
    "            raise Exception(\"Must pass str for query\")\n",
    "        \n",
    "        try:\n",
    "            cursor.execute(query)\n",
    "            columns = cursor.description\n",
    "            data = [{columns[index][0]:column for index, column in enumerate(value)} for value in cursor.fetchall()]\n",
    "            df = pd.DataFrame(data)\n",
    "            cursor.close()\n",
    "            return df\n",
    "        except Exception as e:\n",
    "            cursor.close()\n",
    "            raise e\n",
    "        \n",
    "    def insert_data(self, query:str):\n",
    "        \"\"\"Calls the initate function then passes the query to insert data\n",
    "\n",
    "        Args:\n",
    "            query (str): SQL query function\n",
    "\n",
    "        Exception: Must pass str type for query variable \n",
    "        \"\"\"\n",
    "        if not isinstance(query,str): \n",
    "            raise Exception(\"Must pass str for query\")\n",
    "        \n",
    "        cursor = self.my_database.cursor()          \n",
    "        \n",
    "        try:\n",
    "            pass\n",
    "            cursor.execute(query)\n",
    "            self.my_database.commit()\n",
    "        except Exception as e:\n",
    "            raise e\n",
    "        \n",
    "        cursor.close() \n",
    "\n",
    "\n",
    "class Lifts(SQL): \n",
    "    def new_lift(self, user_id:int, lift:int, set_number:int, reps:int, weight:int, lift_date:str):\n",
    "        \"\"\"Provide ability to import into the lift database\n",
    "\n",
    "        Args:\n",
    "            set_number (int): Set Number\n",
    "            reps (int): Reps performed\n",
    "            weight (int): Weight lifted for each rep in the set\n",
    "            lift_date (str): Date performed\n",
    "\n",
    "        Exception: Must pass int for user_id\n",
    "        Exception: Must provide integar type for set_number, reps, weight, lift_date\n",
    "        \"\"\"\n",
    "        if not isinstance(user_id, int): \n",
    "            raise Exception(\"Must pass int for user_id\")\n",
    "        if not all([isinstance(lift,int),isinstance(set_number,int),isinstance(reps,int),isinstance(weight,int)]):\n",
    "            raise Exception(\"Please provide integar type for set_number, reps, weight, lift_date\")\n",
    "\n",
    "        query = f\"\"\"INSERT INTO WEIGHTLIFTING.LIFTS (USER_ID,LIFT,SET_NUMBER,REPS,WEIGHT,LIFT_DATE) \n",
    "                    VALUES ({user_id}, {lift},{set_number},{reps},{weight},'{lift_date}');\"\"\"\n",
    "\n",
    "        SQL.insert_data(self,query)\n",
    "\n",
    "    \n",
    "class Weight(SQL):\n",
    "    def new_weight(self, user_id:int, weight:float, weight_date:str):\n",
    "        try: \n",
    "            weight = round(float(weight), 2)\n",
    "        except Exception:\n",
    "            raise Exception(\"Must provide float type for weight\")\n",
    "\n",
    "        if not isinstance(weight_date,str):\n",
    "            raise Exception(\"Must provide str type for weight_date\")\n",
    "\n",
    "        query = f\"\"\"INSERT INTO WEIGHTLIFTING.BODY_WEIGHT (USER_ID, WEIGHT, WEIGHT_DATE) \n",
    "                    VALUES ({user_id}, {weight},'{weight_date}');\"\"\"\n",
    "        \n",
    "        SQL.insert_data(self,query)\n",
    "\n",
    "class User(SQL):\n",
    "    def new_user(self, first_name:str, last_name:str, email:str, user_password:str, birthday:str):\n",
    "        \"\"\"Provides the ability to create a new user account.\n",
    "\n",
    "        args: \n",
    "            first_name (str): First name of the user\n",
    "            last_name (str): Last name of the user\n",
    "            email (str): User's email \n",
    "            user_password (str): User's password\n",
    "            birthday (str): User's birthday\n",
    "\n",
    "        Exception: Must pass str for each variabled\n",
    "        Exception: Must input a string for first name and last name\n",
    "        Exception: Must create a password at least 8 character longs\n",
    "        Exception: Must pass valid email\n",
    "        Exception: Email address already in use. Please choose another.        \n",
    "        \"\"\"\n",
    "        if not all([isinstance(first_name, str), isinstance(last_name, str), isinstance(email, str), isinstance(user_password, str),isinstance(birthday, str)]):\n",
    "            raise Exception(\"Please pass str for each variable\")\n",
    "\n",
    "        if not all([len(first_name) > 0, len(last_name) > 0]):\n",
    "            raise Exception(\"Please input a string for first name and last name\")\n",
    "\n",
    "        if len(user_password) < 8:\n",
    "            raise Exception(\"Please create a password at least 8 character longs\") \n",
    "\n",
    "        # Email handling\n",
    "        # Validate real email\n",
    "        try: \n",
    "            validate_email(email)\n",
    "        except Exception:\n",
    "            raise Exception(\"Please pass a valid email\")\n",
    "\n",
    "        # Dupe Email handling\n",
    "        dupe_query = f\"\"\"SELECT * \n",
    "                        FROM WEIGHTLIFTING.USERS U \n",
    "                        WHERE LOWER(U.EMAIL) LIKE LOWER('{email.strip()}')\"\"\"\n",
    "        output_df = SQL.query_data(self, dupe_query)\n",
    "        \n",
    "        if len(output_df) > 0:\n",
    "            raise Exception(\"Email address already in use. Please choose another.\")        \n",
    "\n",
    "        # Birthday handling\n",
    "        User.user_birthday_handling(birthday)\n",
    "\n",
    "        # Creating User\n",
    "        query = f\"\"\"INSERT INTO WEIGHTLIFTING.USERS (FIRST_NAME,LAST_NAME,EMAIL,USER_PASSWORD, BIRTHDAY) \n",
    "                    VALUES ('{first_name.strip()}', '{last_name.strip()}', '{email.strip()}', '{user_password}', '{birthday}');\"\"\"\n",
    "\n",
    "        SQL.insert_data(self,query)\n",
    "\n",
    "    def user_birthday_handling(date):\n",
    "        try:\n",
    "            dt_date = datetime.strptime(date, '%Y-%m-%d')\n",
    "        except Exception as e:\n",
    "            raise Exception(\"Please pass date in YYYY-MM-DD format.\")\n",
    "\n",
    "        if (dt_date.year < 1950) or (dt_date >= datetime.today()):\n",
    "            raise Exception(\"Please enter a valid birthday.\")"
   ]
  },
  {
   "cell_type": "code",
   "execution_count": 10,
   "metadata": {},
   "outputs": [
    {
     "data": {
      "text/html": [
       "<div>\n",
       "<style scoped>\n",
       "    .dataframe tbody tr th:only-of-type {\n",
       "        vertical-align: middle;\n",
       "    }\n",
       "\n",
       "    .dataframe tbody tr th {\n",
       "        vertical-align: top;\n",
       "    }\n",
       "\n",
       "    .dataframe thead th {\n",
       "        text-align: right;\n",
       "    }\n",
       "</style>\n",
       "<table border=\"1\" class=\"dataframe\">\n",
       "  <thead>\n",
       "    <tr style=\"text-align: right;\">\n",
       "      <th></th>\n",
       "      <th>ENTITY_ID</th>\n",
       "      <th>USER_ID</th>\n",
       "      <th>LIFT</th>\n",
       "      <th>SET_NUMBER</th>\n",
       "      <th>REPS</th>\n",
       "      <th>WEIGHT</th>\n",
       "      <th>LIFT_DATE</th>\n",
       "    </tr>\n",
       "  </thead>\n",
       "  <tbody>\n",
       "    <tr>\n",
       "      <th>0</th>\n",
       "      <td>1</td>\n",
       "      <td>0</td>\n",
       "      <td>1</td>\n",
       "      <td>2</td>\n",
       "      <td>10</td>\n",
       "      <td>135</td>\n",
       "      <td>2022-01-22</td>\n",
       "    </tr>\n",
       "    <tr>\n",
       "      <th>1</th>\n",
       "      <td>2</td>\n",
       "      <td>0</td>\n",
       "      <td>2</td>\n",
       "      <td>3</td>\n",
       "      <td>8</td>\n",
       "      <td>155</td>\n",
       "      <td>NaT</td>\n",
       "    </tr>\n",
       "    <tr>\n",
       "      <th>2</th>\n",
       "      <td>3</td>\n",
       "      <td>0</td>\n",
       "      <td>5</td>\n",
       "      <td>7</td>\n",
       "      <td>34</td>\n",
       "      <td>234565</td>\n",
       "      <td>NaT</td>\n",
       "    </tr>\n",
       "    <tr>\n",
       "      <th>3</th>\n",
       "      <td>4</td>\n",
       "      <td>0</td>\n",
       "      <td>5</td>\n",
       "      <td>7</td>\n",
       "      <td>34</td>\n",
       "      <td>234565</td>\n",
       "      <td>2002-01-23</td>\n",
       "    </tr>\n",
       "    <tr>\n",
       "      <th>4</th>\n",
       "      <td>6</td>\n",
       "      <td>0</td>\n",
       "      <td>5</td>\n",
       "      <td>7</td>\n",
       "      <td>34</td>\n",
       "      <td>234565</td>\n",
       "      <td>2002-01-23</td>\n",
       "    </tr>\n",
       "    <tr>\n",
       "      <th>5</th>\n",
       "      <td>7</td>\n",
       "      <td>0</td>\n",
       "      <td>0</td>\n",
       "      <td>0</td>\n",
       "      <td>0</td>\n",
       "      <td>0</td>\n",
       "      <td>2000-01-01</td>\n",
       "    </tr>\n",
       "    <tr>\n",
       "      <th>6</th>\n",
       "      <td>8</td>\n",
       "      <td>0</td>\n",
       "      <td>0</td>\n",
       "      <td>0</td>\n",
       "      <td>0</td>\n",
       "      <td>0</td>\n",
       "      <td>2000-01-01</td>\n",
       "    </tr>\n",
       "    <tr>\n",
       "      <th>7</th>\n",
       "      <td>9</td>\n",
       "      <td>1</td>\n",
       "      <td>0</td>\n",
       "      <td>0</td>\n",
       "      <td>0</td>\n",
       "      <td>0</td>\n",
       "      <td>2000-01-01</td>\n",
       "    </tr>\n",
       "  </tbody>\n",
       "</table>\n",
       "</div>"
      ],
      "text/plain": [
       "   ENTITY_ID  USER_ID  LIFT  SET_NUMBER  REPS  WEIGHT  LIFT_DATE\n",
       "0          1        0     1           2    10     135 2022-01-22\n",
       "1          2        0     2           3     8     155        NaT\n",
       "2          3        0     5           7    34  234565        NaT\n",
       "3          4        0     5           7    34  234565 2002-01-23\n",
       "4          6        0     5           7    34  234565 2002-01-23\n",
       "5          7        0     0           0     0       0 2000-01-01\n",
       "6          8        0     0           0     0       0 2000-01-01\n",
       "7          9        1     0           0     0       0 2000-01-01"
      ]
     },
     "execution_count": 10,
     "metadata": {},
     "output_type": "execute_result"
    }
   ],
   "source": [
    "S = SQL(aws_endpoint,aws_master_username,aws_master_password,database)\n",
    "x = S.query_data(\"select * from WEIGHTLIFTING.LIFTS\")\n"
   ]
  },
  {
   "cell_type": "code",
   "execution_count": 76,
   "metadata": {},
   "outputs": [
    {
     "data": {
      "text/plain": [
       "1"
      ]
     },
     "execution_count": 76,
     "metadata": {},
     "output_type": "execute_result"
    }
   ],
   "source": [
    "# W = Weight(aws_endpoint,aws_master_username,aws_master_password,database)\n",
    "# # W.new_weight(5, 100.5456456, '1999-01-01')\n",
    "# test = 'john.smith@gmail.com'\n",
    "# len(W.query_data(f\"\"\"SELECT *\n",
    "#                     FROM WEIGHTLIFTING.USERS U\n",
    "#                     WHERE LOWER(U.EMAIL) LIKE LOWER('{test}')\"\"\"))"
   ]
  },
  {
   "cell_type": "code",
   "execution_count": 52,
   "metadata": {},
   "outputs": [],
   "source": [
    "lift = Lifts(aws_endpoint,aws_master_username,aws_master_password,database)\n",
    "lift.new_lift(1,0,0,0,0,'2000-01-1')"
   ]
  },
  {
   "cell_type": "code",
   "execution_count": 51,
   "metadata": {},
   "outputs": [],
   "source": [
    "u = User(aws_endpoint,aws_master_username,aws_master_password,database)\n",
    "u.new_user('Jeff', 'a', 'tesdf@gmail.com', 'a_passsadfasdfadsf', '1975-01-01')"
   ]
  },
  {
   "cell_type": "code",
   "execution_count": 28,
   "metadata": {},
   "outputs": [],
   "source": [
    "# lift = Lifts(aws_endpoint,aws_master_username,aws_master_password,database)\n",
    "# lift.new_lift(0,0,0,0,'2000-01-1')"
   ]
  },
  {
   "cell_type": "code",
   "execution_count": 15,
   "metadata": {},
   "outputs": [
    {
     "data": {
      "text/plain": [
       "'WEIGHTLIFITNG'"
      ]
     },
     "execution_count": 15,
     "metadata": {},
     "output_type": "execute_result"
    }
   ],
   "source": [
    "# weight = Weight(aws_endpoint,aws_master_username,aws_master_password,database)\n",
    "# weight.new_weight(165, '2015-01-01')\n",
    "database"
   ]
  },
  {
   "cell_type": "code",
   "execution_count": 69,
   "metadata": {},
   "outputs": [],
   "source": [
    "lift = Lifts(aws_endpoint,aws_master_username,aws_master_password,database)\n",
    "# lift.my_cursor.execute(\"\"\"select * from WEIGHTLIFTING.LIFTS\"\"\")\n",
    "# for x in lift.my_cursor.fetchall():\n",
    "#     print(x)"
   ]
  },
  {
   "cell_type": "code",
   "execution_count": 24,
   "metadata": {},
   "outputs": [],
   "source": [
    "sql = Lifts(aws_endpoint,aws_master_username,aws_master_password,database)\n",
    "df = sql.query_data(\"\"\"select * from WEIGHTLIFTING.USERS\"\"\")"
   ]
  },
  {
   "cell_type": "code",
   "execution_count": 25,
   "metadata": {},
   "outputs": [
    {
     "data": {
      "text/html": [
       "<div>\n",
       "<style scoped>\n",
       "    .dataframe tbody tr th:only-of-type {\n",
       "        vertical-align: middle;\n",
       "    }\n",
       "\n",
       "    .dataframe tbody tr th {\n",
       "        vertical-align: top;\n",
       "    }\n",
       "\n",
       "    .dataframe thead th {\n",
       "        text-align: right;\n",
       "    }\n",
       "</style>\n",
       "<table border=\"1\" class=\"dataframe\">\n",
       "  <thead>\n",
       "    <tr style=\"text-align: right;\">\n",
       "      <th></th>\n",
       "      <th>ENTITY_ID</th>\n",
       "      <th>FIRST_NAME</th>\n",
       "      <th>LAST_NAME</th>\n",
       "      <th>EMAIL</th>\n",
       "      <th>USER_PASSWORD</th>\n",
       "      <th>CREATED_DATE</th>\n",
       "      <th>DELETED</th>\n",
       "    </tr>\n",
       "  </thead>\n",
       "  <tbody>\n",
       "    <tr>\n",
       "      <th>0</th>\n",
       "      <td>1</td>\n",
       "      <td>John</td>\n",
       "      <td>Smith</td>\n",
       "      <td>john.smith@gmail.com</td>\n",
       "      <td>a_password_ayo</td>\n",
       "      <td>2022-01-23 19:01:12</td>\n",
       "      <td>0</td>\n",
       "    </tr>\n",
       "  </tbody>\n",
       "</table>\n",
       "</div>"
      ],
      "text/plain": [
       "   ENTITY_ID FIRST_NAME LAST_NAME                 EMAIL   USER_PASSWORD  \\\n",
       "0          1       John     Smith  john.smith@gmail.com  a_password_ayo   \n",
       "\n",
       "         CREATED_DATE  DELETED  \n",
       "0 2022-01-23 19:01:12        0  "
      ]
     },
     "execution_count": 25,
     "metadata": {},
     "output_type": "execute_result"
    }
   ],
   "source": [
    "df"
   ]
  },
  {
   "cell_type": "code",
   "execution_count": 63,
   "metadata": {},
   "outputs": [],
   "source": []
  },
  {
   "cell_type": "code",
   "execution_count": 65,
   "metadata": {},
   "outputs": [],
   "source": [
    "columns = lift.my_cursor.description\n",
    "data = [{columns[index][0]:column for index, column in enumerate(value)} for value in lift.my_cursor.fetchall()]\n",
    "df = pd.DataFrame(result)\n"
   ]
  },
  {
   "cell_type": "code",
   "execution_count": 67,
   "metadata": {},
   "outputs": [
    {
     "data": {
      "text/html": [
       "<div>\n",
       "<style scoped>\n",
       "    .dataframe tbody tr th:only-of-type {\n",
       "        vertical-align: middle;\n",
       "    }\n",
       "\n",
       "    .dataframe tbody tr th {\n",
       "        vertical-align: top;\n",
       "    }\n",
       "\n",
       "    .dataframe thead th {\n",
       "        text-align: right;\n",
       "    }\n",
       "</style>\n",
       "<table border=\"1\" class=\"dataframe\">\n",
       "  <thead>\n",
       "    <tr style=\"text-align: right;\">\n",
       "      <th></th>\n",
       "      <th>ENTITY_ID</th>\n",
       "      <th>LIFT</th>\n",
       "      <th>SET_NUMBER</th>\n",
       "      <th>REPS</th>\n",
       "      <th>WEIGHT</th>\n",
       "      <th>LIFT_DATE</th>\n",
       "    </tr>\n",
       "  </thead>\n",
       "  <tbody>\n",
       "    <tr>\n",
       "      <th>0</th>\n",
       "      <td>1</td>\n",
       "      <td>1</td>\n",
       "      <td>2</td>\n",
       "      <td>10</td>\n",
       "      <td>135</td>\n",
       "      <td>2022-01-22</td>\n",
       "    </tr>\n",
       "    <tr>\n",
       "      <th>1</th>\n",
       "      <td>2</td>\n",
       "      <td>2</td>\n",
       "      <td>3</td>\n",
       "      <td>8</td>\n",
       "      <td>155</td>\n",
       "      <td>NaT</td>\n",
       "    </tr>\n",
       "    <tr>\n",
       "      <th>2</th>\n",
       "      <td>3</td>\n",
       "      <td>5</td>\n",
       "      <td>7</td>\n",
       "      <td>34</td>\n",
       "      <td>234565</td>\n",
       "      <td>NaT</td>\n",
       "    </tr>\n",
       "    <tr>\n",
       "      <th>3</th>\n",
       "      <td>4</td>\n",
       "      <td>5</td>\n",
       "      <td>7</td>\n",
       "      <td>34</td>\n",
       "      <td>234565</td>\n",
       "      <td>2002-01-23</td>\n",
       "    </tr>\n",
       "    <tr>\n",
       "      <th>4</th>\n",
       "      <td>6</td>\n",
       "      <td>5</td>\n",
       "      <td>7</td>\n",
       "      <td>34</td>\n",
       "      <td>234565</td>\n",
       "      <td>2002-01-23</td>\n",
       "    </tr>\n",
       "    <tr>\n",
       "      <th>5</th>\n",
       "      <td>7</td>\n",
       "      <td>0</td>\n",
       "      <td>0</td>\n",
       "      <td>0</td>\n",
       "      <td>0</td>\n",
       "      <td>2000-01-01</td>\n",
       "    </tr>\n",
       "    <tr>\n",
       "      <th>6</th>\n",
       "      <td>8</td>\n",
       "      <td>0</td>\n",
       "      <td>0</td>\n",
       "      <td>0</td>\n",
       "      <td>0</td>\n",
       "      <td>2000-01-01</td>\n",
       "    </tr>\n",
       "  </tbody>\n",
       "</table>\n",
       "</div>"
      ],
      "text/plain": [
       "   ENTITY_ID  LIFT  SET_NUMBER  REPS  WEIGHT  LIFT_DATE\n",
       "0          1     1           2    10     135 2022-01-22\n",
       "1          2     2           3     8     155        NaT\n",
       "2          3     5           7    34  234565        NaT\n",
       "3          4     5           7    34  234565 2002-01-23\n",
       "4          6     5           7    34  234565 2002-01-23\n",
       "5          7     0           0     0       0 2000-01-01\n",
       "6          8     0           0     0       0 2000-01-01"
      ]
     },
     "execution_count": 67,
     "metadata": {},
     "output_type": "execute_result"
    }
   ],
   "source": [
    "pd.DataFrame(result)"
   ]
  },
  {
   "cell_type": "code",
   "execution_count": 9,
   "metadata": {},
   "outputs": [],
   "source": [
    "from config import aws_endpoint, aws_master_username, aws_master_password, database\n",
    "\n",
    "\n",
    "my_database = mysql.connector.connect(\n",
    "                            host=aws_endpoint,\n",
    "                            user=aws_master_username,\n",
    "                            password=aws_master_password,\n",
    "                            database=database\n",
    "                        )\n",
    "my_cursor = my_database.cursor()"
   ]
  },
  {
   "cell_type": "code",
   "execution_count": 13,
   "metadata": {},
   "outputs": [],
   "source": [
    "# my_cursor.execute(\"SELECT * FROM WEIGHTLIFTING.LIFT_EXERCISE\")\n",
    "columns = my_cursor.description\n",
    "data = [{columns[index][0]:column for index, column in enumerate(value)} for value in my_cursor.fetchall()]\n",
    "df = pd.DataFrame(data)"
   ]
  },
  {
   "cell_type": "code",
   "execution_count": 15,
   "metadata": {},
   "outputs": [],
   "source": [
    "my_cursor.execute(\"\"\"INSERT INTO WEIGHTLIFTING.USERS (FIRST_NAME,LAST_NAME,EMAIL,USER_PASSWORD) \n",
    "VALUES ('John', 'Smith', 'john.smith@gmail.com', 'a_password_ayo');\"\"\")\n",
    "my_database.commit()"
   ]
  },
  {
   "cell_type": "code",
   "execution_count": 31,
   "metadata": {},
   "outputs": [
    {
     "data": {
      "text/plain": [
       "datetime.datetime(2022, 1, 23, 13, 9, 49, 49783)"
      ]
     },
     "execution_count": 31,
     "metadata": {},
     "output_type": "execute_result"
    }
   ],
   "source": [
    "datetime.today()"
   ]
  },
  {
   "cell_type": "code",
   "execution_count": 38,
   "metadata": {},
   "outputs": [
    {
     "data": {
      "text/html": [
       "<div>\n",
       "<style scoped>\n",
       "    .dataframe tbody tr th:only-of-type {\n",
       "        vertical-align: middle;\n",
       "    }\n",
       "\n",
       "    .dataframe tbody tr th {\n",
       "        vertical-align: top;\n",
       "    }\n",
       "\n",
       "    .dataframe thead th {\n",
       "        text-align: right;\n",
       "    }\n",
       "</style>\n",
       "<table border=\"1\" class=\"dataframe\">\n",
       "  <thead>\n",
       "    <tr style=\"text-align: right;\">\n",
       "      <th></th>\n",
       "      <th>ENTITY_ID</th>\n",
       "      <th>FIRST_NAME</th>\n",
       "      <th>LAST_NAME</th>\n",
       "      <th>EMAIL</th>\n",
       "      <th>USER_PASSWORD</th>\n",
       "      <th>CREATED_DATE</th>\n",
       "      <th>DELETED</th>\n",
       "    </tr>\n",
       "  </thead>\n",
       "  <tbody>\n",
       "    <tr>\n",
       "      <th>0</th>\n",
       "      <td>1</td>\n",
       "      <td>John</td>\n",
       "      <td>Smith</td>\n",
       "      <td>john.smith@gmail.com</td>\n",
       "      <td>a_password_ayo</td>\n",
       "      <td>2022-01-23 19:01:12</td>\n",
       "      <td>0</td>\n",
       "    </tr>\n",
       "  </tbody>\n",
       "</table>\n",
       "</div>"
      ],
      "text/plain": [
       "   ENTITY_ID FIRST_NAME LAST_NAME                 EMAIL   USER_PASSWORD  \\\n",
       "0          1       John     Smith  john.smith@gmail.com  a_password_ayo   \n",
       "\n",
       "         CREATED_DATE  DELETED  \n",
       "0 2022-01-23 19:01:12        0  "
      ]
     },
     "execution_count": 38,
     "metadata": {},
     "output_type": "execute_result"
    }
   ],
   "source": []
  },
  {
   "cell_type": "code",
   "execution_count": 30,
   "metadata": {},
   "outputs": [
    {
     "data": {
      "text/plain": [
       "2000"
      ]
     },
     "execution_count": 30,
     "metadata": {},
     "output_type": "execute_result"
    }
   ],
   "source": [
    "datetime.strptime('2000-01-01', '%Y-%m-%d').year"
   ]
  },
  {
   "cell_type": "code",
   "execution_count": 45,
   "metadata": {},
   "outputs": [],
   "source": [
    "test = 'sdkf@gmail.com'\n",
    "x = validate_email(test)"
   ]
  },
  {
   "cell_type": "code",
   "execution_count": 43,
   "metadata": {},
   "outputs": [
    {
     "data": {
      "text/plain": [
       "'sdkf@gmail.com'"
      ]
     },
     "execution_count": 43,
     "metadata": {},
     "output_type": "execute_result"
    }
   ],
   "source": [
    "x.email"
   ]
  },
  {
   "cell_type": "code",
   "execution_count": null,
   "metadata": {},
   "outputs": [],
   "source": []
  }
 ],
 "metadata": {
  "interpreter": {
   "hash": "aee8b7b246df8f9039afb4144a1f6fd8d2ca17a180786b69acc140d282b71a49"
  },
  "kernelspec": {
   "display_name": "Python 3.8.3 64-bit",
   "language": "python",
   "name": "python3"
  },
  "language_info": {
   "codemirror_mode": {
    "name": "ipython",
    "version": 3
   },
   "file_extension": ".py",
   "mimetype": "text/x-python",
   "name": "python",
   "nbconvert_exporter": "python",
   "pygments_lexer": "ipython3",
   "version": "3.8.3"
  },
  "orig_nbformat": 4
 },
 "nbformat": 4,
 "nbformat_minor": 2
}
